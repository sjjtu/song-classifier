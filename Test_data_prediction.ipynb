{
 "cells": [
  {
   "cell_type": "code",
   "execution_count": 48,
   "id": "14b90b59",
   "metadata": {},
   "outputs": [],
   "source": [
    "# Matplotlib\n",
    "import matplotlib.pyplot as plt\n",
    "# Tensorflow\n",
    "import tensorflow as tf\n",
    "# Numpy and Pandas\n",
    "import numpy as np\n",
    "import pandas as pd\n",
    "# Other import\n",
    "import sys\n",
    "\n",
    "\n",
    "from sklearn.preprocessing import StandardScaler"
   ]
  },
  {
   "cell_type": "code",
   "execution_count": 49,
   "id": "dd09bf6e",
   "metadata": {},
   "outputs": [
    {
     "data": {
      "text/html": [
       "<div>\n",
       "<style scoped>\n",
       "    .dataframe tbody tr th:only-of-type {\n",
       "        vertical-align: middle;\n",
       "    }\n",
       "\n",
       "    .dataframe tbody tr th {\n",
       "        vertical-align: top;\n",
       "    }\n",
       "\n",
       "    .dataframe thead th {\n",
       "        text-align: right;\n",
       "    }\n",
       "</style>\n",
       "<table border=\"1\" class=\"dataframe\">\n",
       "  <thead>\n",
       "    <tr style=\"text-align: right;\">\n",
       "      <th></th>\n",
       "      <th>danceability</th>\n",
       "      <th>energy</th>\n",
       "      <th>key</th>\n",
       "      <th>loudness</th>\n",
       "      <th>mode</th>\n",
       "      <th>speechiness</th>\n",
       "      <th>acousticness</th>\n",
       "      <th>instrumentalness</th>\n",
       "      <th>liveness</th>\n",
       "      <th>valence</th>\n",
       "      <th>tempo</th>\n",
       "    </tr>\n",
       "  </thead>\n",
       "  <tbody>\n",
       "    <tr>\n",
       "      <th>0</th>\n",
       "      <td>0.543</td>\n",
       "      <td>0.752</td>\n",
       "      <td>0</td>\n",
       "      <td>-9.986</td>\n",
       "      <td>1</td>\n",
       "      <td>0.1010</td>\n",
       "      <td>0.0224</td>\n",
       "      <td>0.000000</td>\n",
       "      <td>0.0683</td>\n",
       "      <td>0.904</td>\n",
       "      <td>168.122</td>\n",
       "    </tr>\n",
       "    <tr>\n",
       "      <th>1</th>\n",
       "      <td>0.483</td>\n",
       "      <td>0.753</td>\n",
       "      <td>1</td>\n",
       "      <td>-8.937</td>\n",
       "      <td>0</td>\n",
       "      <td>0.0832</td>\n",
       "      <td>0.4250</td>\n",
       "      <td>0.000142</td>\n",
       "      <td>0.2570</td>\n",
       "      <td>0.420</td>\n",
       "      <td>115.102</td>\n",
       "    </tr>\n",
       "    <tr>\n",
       "      <th>2</th>\n",
       "      <td>0.541</td>\n",
       "      <td>0.618</td>\n",
       "      <td>1</td>\n",
       "      <td>-9.652</td>\n",
       "      <td>0</td>\n",
       "      <td>0.1790</td>\n",
       "      <td>0.2770</td>\n",
       "      <td>0.000040</td>\n",
       "      <td>0.4130</td>\n",
       "      <td>0.680</td>\n",
       "      <td>145.464</td>\n",
       "    </tr>\n",
       "    <tr>\n",
       "      <th>3</th>\n",
       "      <td>0.539</td>\n",
       "      <td>0.884</td>\n",
       "      <td>9</td>\n",
       "      <td>-6.530</td>\n",
       "      <td>1</td>\n",
       "      <td>0.0403</td>\n",
       "      <td>0.3820</td>\n",
       "      <td>0.001660</td>\n",
       "      <td>0.7600</td>\n",
       "      <td>0.752</td>\n",
       "      <td>100.812</td>\n",
       "    </tr>\n",
       "    <tr>\n",
       "      <th>4</th>\n",
       "      <td>0.205</td>\n",
       "      <td>0.129</td>\n",
       "      <td>7</td>\n",
       "      <td>-18.197</td>\n",
       "      <td>1</td>\n",
       "      <td>0.0595</td>\n",
       "      <td>0.9680</td>\n",
       "      <td>0.946000</td>\n",
       "      <td>0.1010</td>\n",
       "      <td>0.296</td>\n",
       "      <td>136.871</td>\n",
       "    </tr>\n",
       "  </tbody>\n",
       "</table>\n",
       "</div>"
      ],
      "text/plain": [
       "   danceability  energy  key  loudness  mode  speechiness  acousticness  \\\n",
       "0         0.543   0.752    0    -9.986     1       0.1010        0.0224   \n",
       "1         0.483   0.753    1    -8.937     0       0.0832        0.4250   \n",
       "2         0.541   0.618    1    -9.652     0       0.1790        0.2770   \n",
       "3         0.539   0.884    9    -6.530     1       0.0403        0.3820   \n",
       "4         0.205   0.129    7   -18.197     1       0.0595        0.9680   \n",
       "\n",
       "   instrumentalness  liveness  valence    tempo  \n",
       "0          0.000000    0.0683    0.904  168.122  \n",
       "1          0.000142    0.2570    0.420  115.102  \n",
       "2          0.000040    0.4130    0.680  145.464  \n",
       "3          0.001660    0.7600    0.752  100.812  \n",
       "4          0.946000    0.1010    0.296  136.871  "
      ]
     },
     "execution_count": 49,
     "metadata": {},
     "output_type": "execute_result"
    }
   ],
   "source": [
    "# Extract data\n",
    "test_inputs = pd.read_csv(\"./data/project_test.csv\")\n",
    "test_inputs.head()"
   ]
  },
  {
   "cell_type": "code",
   "execution_count": 50,
   "id": "2b23183e",
   "metadata": {},
   "outputs": [],
   "source": [
    "from sklearn.model_selection import train_test_split\n",
    "\n",
    "# Scale data\n",
    "scaler = StandardScaler()\n",
    "test_inputs = scaler.fit_transform(test_inputs)"
   ]
  },
  {
   "cell_type": "code",
   "execution_count": 51,
   "id": "432201df",
   "metadata": {},
   "outputs": [],
   "source": [
    "# Load the saved NN model\n",
    "saved_model = tf.keras.models.load_model(\"./Saved_Model/2_hidd_layer_NN.h5\")"
   ]
  },
  {
   "cell_type": "code",
   "execution_count": 52,
   "id": "80d41b84",
   "metadata": {},
   "outputs": [
    {
     "name": "stdout",
     "output_type": "stream",
     "text": [
      "3/3 [==============================] - 0s 6ms/step\n"
     ]
    }
   ],
   "source": [
    "# Predict labels \n",
    "prediction = saved_model.predict(test_inputs)\n",
    "predicted_labels = np.argmax(prediction,axis=1)\n",
    "\n",
    "#  Save the results\n",
    "np.savetxt(\"./Predictions/label_prediction.csv\",[predicted_labels],delimiter=\",\",fmt=\"%d\")"
   ]
  },
  {
   "cell_type": "code",
   "execution_count": null,
   "id": "bed80ddd",
   "metadata": {},
   "outputs": [],
   "source": [
    "\n"
   ]
  }
 ],
 "metadata": {
  "kernelspec": {
   "display_name": "Python 3 (ipykernel)",
   "language": "python",
   "name": "python3"
  },
  "language_info": {
   "codemirror_mode": {
    "name": "ipython",
    "version": 3
   },
   "file_extension": ".py",
   "mimetype": "text/x-python",
   "name": "python",
   "nbconvert_exporter": "python",
   "pygments_lexer": "ipython3",
   "version": "3.10.7"
  }
 },
 "nbformat": 4,
 "nbformat_minor": 5
}
