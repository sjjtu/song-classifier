{
 "cells": [
  {
   "cell_type": "code",
   "execution_count": 1,
   "id": "96fbcacf",
   "metadata": {},
   "outputs": [],
   "source": [
    "# Matplotlib\n",
    "import matplotlib.pyplot as plt\n",
    "# Tensorflow\n",
    "import tensorflow as tf\n",
    "# Numpy and Pandas\n",
    "import numpy as np\n",
    "import pandas as pd\n",
    "# Other import\n",
    "import sys\n",
    "\n",
    "\n",
    "from sklearn.preprocessing import StandardScaler"
   ]
  },
  {
   "cell_type": "code",
   "execution_count": 122,
   "id": "a13b80fa",
   "metadata": {},
   "outputs": [
    {
     "data": {
      "text/html": [
       "<div>\n",
       "<style scoped>\n",
       "    .dataframe tbody tr th:only-of-type {\n",
       "        vertical-align: middle;\n",
       "    }\n",
       "\n",
       "    .dataframe tbody tr th {\n",
       "        vertical-align: top;\n",
       "    }\n",
       "\n",
       "    .dataframe thead th {\n",
       "        text-align: right;\n",
       "    }\n",
       "</style>\n",
       "<table border=\"1\" class=\"dataframe\">\n",
       "  <thead>\n",
       "    <tr style=\"text-align: right;\">\n",
       "      <th></th>\n",
       "      <th>danceability</th>\n",
       "      <th>energy</th>\n",
       "      <th>key</th>\n",
       "      <th>loudness</th>\n",
       "      <th>mode</th>\n",
       "      <th>speechiness</th>\n",
       "      <th>acousticness</th>\n",
       "      <th>instrumentalness</th>\n",
       "      <th>liveness</th>\n",
       "      <th>valence</th>\n",
       "      <th>tempo</th>\n",
       "    </tr>\n",
       "  </thead>\n",
       "  <tbody>\n",
       "    <tr>\n",
       "      <th>0</th>\n",
       "      <td>0.545</td>\n",
       "      <td>0.884</td>\n",
       "      <td>5</td>\n",
       "      <td>-4.807</td>\n",
       "      <td>0</td>\n",
       "      <td>0.367</td>\n",
       "      <td>0.290000</td>\n",
       "      <td>0.000000</td>\n",
       "      <td>0.370</td>\n",
       "      <td>0.641</td>\n",
       "      <td>86.049</td>\n",
       "    </tr>\n",
       "    <tr>\n",
       "      <th>1</th>\n",
       "      <td>0.795</td>\n",
       "      <td>0.545</td>\n",
       "      <td>7</td>\n",
       "      <td>-8.153</td>\n",
       "      <td>1</td>\n",
       "      <td>0.343</td>\n",
       "      <td>0.003960</td>\n",
       "      <td>0.000000</td>\n",
       "      <td>0.273</td>\n",
       "      <td>0.809</td>\n",
       "      <td>91.967</td>\n",
       "    </tr>\n",
       "    <tr>\n",
       "      <th>2</th>\n",
       "      <td>0.489</td>\n",
       "      <td>0.871</td>\n",
       "      <td>5</td>\n",
       "      <td>-5.825</td>\n",
       "      <td>1</td>\n",
       "      <td>0.386</td>\n",
       "      <td>0.002850</td>\n",
       "      <td>0.000004</td>\n",
       "      <td>0.130</td>\n",
       "      <td>0.341</td>\n",
       "      <td>117.431</td>\n",
       "    </tr>\n",
       "    <tr>\n",
       "      <th>3</th>\n",
       "      <td>0.539</td>\n",
       "      <td>0.931</td>\n",
       "      <td>4</td>\n",
       "      <td>-1.803</td>\n",
       "      <td>0</td>\n",
       "      <td>0.262</td>\n",
       "      <td>0.000713</td>\n",
       "      <td>0.000000</td>\n",
       "      <td>0.204</td>\n",
       "      <td>0.685</td>\n",
       "      <td>85.571</td>\n",
       "    </tr>\n",
       "    <tr>\n",
       "      <th>4</th>\n",
       "      <td>0.918</td>\n",
       "      <td>0.734</td>\n",
       "      <td>11</td>\n",
       "      <td>-2.832</td>\n",
       "      <td>0</td>\n",
       "      <td>0.269</td>\n",
       "      <td>0.029400</td>\n",
       "      <td>0.000008</td>\n",
       "      <td>0.191</td>\n",
       "      <td>0.608</td>\n",
       "      <td>97.044</td>\n",
       "    </tr>\n",
       "  </tbody>\n",
       "</table>\n",
       "</div>"
      ],
      "text/plain": [
       "   danceability  energy  key  loudness  mode  speechiness  acousticness  \\\n",
       "0         0.545   0.884    5    -4.807     0        0.367      0.290000   \n",
       "1         0.795   0.545    7    -8.153     1        0.343      0.003960   \n",
       "2         0.489   0.871    5    -5.825     1        0.386      0.002850   \n",
       "3         0.539   0.931    4    -1.803     0        0.262      0.000713   \n",
       "4         0.918   0.734   11    -2.832     0        0.269      0.029400   \n",
       "\n",
       "   instrumentalness  liveness  valence    tempo  \n",
       "0          0.000000     0.370    0.641   86.049  \n",
       "1          0.000000     0.273    0.809   91.967  \n",
       "2          0.000004     0.130    0.341  117.431  \n",
       "3          0.000000     0.204    0.685   85.571  \n",
       "4          0.000008     0.191    0.608   97.044  "
      ]
     },
     "execution_count": 122,
     "metadata": {},
     "output_type": "execute_result"
    }
   ],
   "source": [
    "# Extract data\n",
    "data = pd.read_csv(\"./data/project_train.csv\")\n",
    "inputs = data.iloc[:,:11]\n",
    "labels = data.iloc[:,11]\n",
    "inputs.head()"
   ]
  },
  {
   "cell_type": "code",
   "execution_count": 123,
   "id": "23533494",
   "metadata": {},
   "outputs": [],
   "source": [
    "from sklearn.model_selection import train_test_split\n",
    "\n",
    "# Scale data\n",
    "scaler = StandardScaler()\n",
    "inputs = scaler.fit_transform(inputs)\n",
    "\n",
    "# Split training and test data\n",
    "inputs_train, inputs_test, labels_train, labels_test = train_test_split(inputs, labels, test_size=0.2, random_state=1)"
   ]
  },
  {
   "cell_type": "code",
   "execution_count": 124,
   "id": "2a157b26",
   "metadata": {},
   "outputs": [],
   "source": [
    "# Create the model\n",
    "model = tf.keras.models.Sequential()\n",
    "\n",
    "# Add the layers\n",
    "model.add(tf.keras.layers.Dense(80, activation=\"relu\"))\n",
    "model.add(tf.keras.layers.Dense(80, activation=\"relu\"))\n",
    "model.add(tf.keras.layers.Dense(2, activation=\"softmax\"))"
   ]
  },
  {
   "cell_type": "code",
   "execution_count": 125,
   "id": "56e3a1c8",
   "metadata": {},
   "outputs": [],
   "source": [
    "# Compile the model\n",
    "model.compile(\n",
    "    loss=\"sparse_categorical_crossentropy\",\n",
    "    optimizer=\"sgd\",\n",
    "    metrics=[\"accuracy\"]\n",
    ")"
   ]
  },
  {
   "cell_type": "code",
   "execution_count": 126,
   "id": "28c720cf",
   "metadata": {},
   "outputs": [
    {
     "name": "stdout",
     "output_type": "stream",
     "text": [
      "Epoch 1/60\n"
     ]
    },
    {
     "name": "stderr",
     "output_type": "stream",
     "text": [
      "C:\\Users\\User\\AppData\\Local\\Programs\\Python\\Python310\\lib\\site-packages\\keras\\engine\\data_adapter.py:1699: FutureWarning: The behavior of `series[i:j]` with an integer-dtype index is deprecated. In a future version, this will be treated as *label-based* indexing, consistent with e.g. `series[i]` lookups. To retain the old behavior, use `series.iloc[i:j]`. To get the future behavior, use `series.loc[i:j]`.\n",
      "  return t[start:end]\n"
     ]
    },
    {
     "name": "stdout",
     "output_type": "stream",
     "text": [
      "9/9 [==============================] - 1s 43ms/step - loss: 0.7259 - accuracy: 0.4078 - val_loss: 0.6823 - val_accuracy: 0.5492\n",
      "Epoch 2/60\n",
      "9/9 [==============================] - 0s 9ms/step - loss: 0.6936 - accuracy: 0.4965 - val_loss: 0.6599 - val_accuracy: 0.5984\n",
      "Epoch 3/60\n",
      "9/9 [==============================] - 0s 10ms/step - loss: 0.6689 - accuracy: 0.5674 - val_loss: 0.6409 - val_accuracy: 0.7049\n",
      "Epoch 4/60\n",
      "9/9 [==============================] - 0s 9ms/step - loss: 0.6472 - accuracy: 0.6348 - val_loss: 0.6243 - val_accuracy: 0.7295\n",
      "Epoch 5/60\n",
      "9/9 [==============================] - 0s 9ms/step - loss: 0.6284 - accuracy: 0.6596 - val_loss: 0.6096 - val_accuracy: 0.7541\n",
      "Epoch 6/60\n",
      "9/9 [==============================] - 0s 10ms/step - loss: 0.6122 - accuracy: 0.6738 - val_loss: 0.5966 - val_accuracy: 0.7705\n",
      "Epoch 7/60\n",
      "9/9 [==============================] - 0s 9ms/step - loss: 0.5977 - accuracy: 0.6950 - val_loss: 0.5847 - val_accuracy: 0.7705\n",
      "Epoch 8/60\n",
      "9/9 [==============================] - 0s 10ms/step - loss: 0.5846 - accuracy: 0.7092 - val_loss: 0.5740 - val_accuracy: 0.7869\n",
      "Epoch 9/60\n",
      "9/9 [==============================] - 0s 9ms/step - loss: 0.5733 - accuracy: 0.7128 - val_loss: 0.5642 - val_accuracy: 0.7705\n",
      "Epoch 10/60\n",
      "9/9 [==============================] - 0s 10ms/step - loss: 0.5625 - accuracy: 0.7305 - val_loss: 0.5550 - val_accuracy: 0.7787\n",
      "Epoch 11/60\n",
      "9/9 [==============================] - 0s 9ms/step - loss: 0.5527 - accuracy: 0.7340 - val_loss: 0.5469 - val_accuracy: 0.7705\n",
      "Epoch 12/60\n",
      "9/9 [==============================] - 0s 10ms/step - loss: 0.5442 - accuracy: 0.7447 - val_loss: 0.5393 - val_accuracy: 0.7623\n",
      "Epoch 13/60\n",
      "9/9 [==============================] - 0s 10ms/step - loss: 0.5360 - accuracy: 0.7482 - val_loss: 0.5325 - val_accuracy: 0.7541\n",
      "Epoch 14/60\n",
      "9/9 [==============================] - 0s 10ms/step - loss: 0.5286 - accuracy: 0.7482 - val_loss: 0.5263 - val_accuracy: 0.7541\n",
      "Epoch 15/60\n",
      "9/9 [==============================] - 0s 11ms/step - loss: 0.5222 - accuracy: 0.7482 - val_loss: 0.5206 - val_accuracy: 0.7541\n",
      "Epoch 16/60\n",
      "9/9 [==============================] - 0s 9ms/step - loss: 0.5158 - accuracy: 0.7518 - val_loss: 0.5154 - val_accuracy: 0.7623\n",
      "Epoch 17/60\n",
      "9/9 [==============================] - 0s 9ms/step - loss: 0.5101 - accuracy: 0.7482 - val_loss: 0.5105 - val_accuracy: 0.7705\n",
      "Epoch 18/60\n",
      "9/9 [==============================] - 0s 10ms/step - loss: 0.5047 - accuracy: 0.7589 - val_loss: 0.5061 - val_accuracy: 0.7869\n",
      "Epoch 19/60\n",
      "9/9 [==============================] - 0s 10ms/step - loss: 0.4998 - accuracy: 0.7589 - val_loss: 0.5020 - val_accuracy: 0.7869\n",
      "Epoch 20/60\n",
      "9/9 [==============================] - 0s 9ms/step - loss: 0.4953 - accuracy: 0.7624 - val_loss: 0.4983 - val_accuracy: 0.7951\n",
      "Epoch 21/60\n",
      "9/9 [==============================] - 0s 9ms/step - loss: 0.4907 - accuracy: 0.7624 - val_loss: 0.4948 - val_accuracy: 0.7951\n",
      "Epoch 22/60\n",
      "9/9 [==============================] - 0s 9ms/step - loss: 0.4867 - accuracy: 0.7695 - val_loss: 0.4917 - val_accuracy: 0.7951\n",
      "Epoch 23/60\n",
      "9/9 [==============================] - 0s 10ms/step - loss: 0.4829 - accuracy: 0.7766 - val_loss: 0.4889 - val_accuracy: 0.8033\n",
      "Epoch 24/60\n",
      "9/9 [==============================] - 0s 10ms/step - loss: 0.4795 - accuracy: 0.7766 - val_loss: 0.4861 - val_accuracy: 0.8033\n",
      "Epoch 25/60\n",
      "9/9 [==============================] - 0s 9ms/step - loss: 0.4763 - accuracy: 0.7766 - val_loss: 0.4836 - val_accuracy: 0.7951\n",
      "Epoch 26/60\n",
      "9/9 [==============================] - 0s 10ms/step - loss: 0.4733 - accuracy: 0.7730 - val_loss: 0.4814 - val_accuracy: 0.7951\n",
      "Epoch 27/60\n",
      "9/9 [==============================] - 0s 10ms/step - loss: 0.4701 - accuracy: 0.7730 - val_loss: 0.4794 - val_accuracy: 0.7951\n",
      "Epoch 28/60\n",
      "9/9 [==============================] - 0s 10ms/step - loss: 0.4672 - accuracy: 0.7730 - val_loss: 0.4775 - val_accuracy: 0.7951\n",
      "Epoch 29/60\n",
      "9/9 [==============================] - 0s 10ms/step - loss: 0.4642 - accuracy: 0.7766 - val_loss: 0.4757 - val_accuracy: 0.7951\n",
      "Epoch 30/60\n",
      "9/9 [==============================] - 0s 10ms/step - loss: 0.4619 - accuracy: 0.7730 - val_loss: 0.4739 - val_accuracy: 0.7951\n",
      "Epoch 31/60\n",
      "9/9 [==============================] - 0s 10ms/step - loss: 0.4592 - accuracy: 0.7801 - val_loss: 0.4724 - val_accuracy: 0.8115\n",
      "Epoch 32/60\n",
      "9/9 [==============================] - 0s 9ms/step - loss: 0.4567 - accuracy: 0.7837 - val_loss: 0.4710 - val_accuracy: 0.8115\n",
      "Epoch 33/60\n",
      "9/9 [==============================] - 0s 10ms/step - loss: 0.4548 - accuracy: 0.7872 - val_loss: 0.4696 - val_accuracy: 0.8115\n",
      "Epoch 34/60\n",
      "9/9 [==============================] - 0s 9ms/step - loss: 0.4522 - accuracy: 0.7801 - val_loss: 0.4683 - val_accuracy: 0.8115\n",
      "Epoch 35/60\n",
      "9/9 [==============================] - 0s 9ms/step - loss: 0.4503 - accuracy: 0.7801 - val_loss: 0.4672 - val_accuracy: 0.8115\n",
      "Epoch 36/60\n",
      "9/9 [==============================] - 0s 9ms/step - loss: 0.4479 - accuracy: 0.7872 - val_loss: 0.4661 - val_accuracy: 0.8115\n",
      "Epoch 37/60\n",
      "9/9 [==============================] - 0s 10ms/step - loss: 0.4460 - accuracy: 0.7908 - val_loss: 0.4651 - val_accuracy: 0.8115\n",
      "Epoch 38/60\n",
      "9/9 [==============================] - 0s 9ms/step - loss: 0.4439 - accuracy: 0.7837 - val_loss: 0.4641 - val_accuracy: 0.8115\n",
      "Epoch 39/60\n",
      "9/9 [==============================] - 0s 9ms/step - loss: 0.4422 - accuracy: 0.7872 - val_loss: 0.4633 - val_accuracy: 0.8115\n",
      "Epoch 40/60\n",
      "9/9 [==============================] - 0s 9ms/step - loss: 0.4406 - accuracy: 0.7908 - val_loss: 0.4625 - val_accuracy: 0.8115\n",
      "Epoch 41/60\n",
      "9/9 [==============================] - 0s 9ms/step - loss: 0.4386 - accuracy: 0.7872 - val_loss: 0.4617 - val_accuracy: 0.8115\n",
      "Epoch 42/60\n",
      "9/9 [==============================] - 0s 9ms/step - loss: 0.4368 - accuracy: 0.7908 - val_loss: 0.4609 - val_accuracy: 0.8115\n",
      "Epoch 43/60\n",
      "9/9 [==============================] - 0s 9ms/step - loss: 0.4351 - accuracy: 0.7943 - val_loss: 0.4603 - val_accuracy: 0.8115\n",
      "Epoch 44/60\n",
      "9/9 [==============================] - 0s 8ms/step - loss: 0.4337 - accuracy: 0.7872 - val_loss: 0.4597 - val_accuracy: 0.8033\n",
      "Epoch 45/60\n",
      "9/9 [==============================] - 0s 10ms/step - loss: 0.4321 - accuracy: 0.7872 - val_loss: 0.4591 - val_accuracy: 0.8033\n",
      "Epoch 46/60\n",
      "9/9 [==============================] - 0s 9ms/step - loss: 0.4305 - accuracy: 0.7837 - val_loss: 0.4585 - val_accuracy: 0.8033\n",
      "Epoch 47/60\n",
      "9/9 [==============================] - 0s 10ms/step - loss: 0.4289 - accuracy: 0.7943 - val_loss: 0.4581 - val_accuracy: 0.8033\n",
      "Epoch 48/60\n",
      "9/9 [==============================] - 0s 9ms/step - loss: 0.4276 - accuracy: 0.7943 - val_loss: 0.4576 - val_accuracy: 0.8033\n",
      "Epoch 49/60\n",
      "9/9 [==============================] - 0s 9ms/step - loss: 0.4259 - accuracy: 0.7872 - val_loss: 0.4572 - val_accuracy: 0.8115\n",
      "Epoch 50/60\n",
      "9/9 [==============================] - 0s 10ms/step - loss: 0.4252 - accuracy: 0.7979 - val_loss: 0.4569 - val_accuracy: 0.8197\n",
      "Epoch 51/60\n",
      "9/9 [==============================] - 0s 10ms/step - loss: 0.4235 - accuracy: 0.7979 - val_loss: 0.4566 - val_accuracy: 0.8197\n",
      "Epoch 52/60\n",
      "9/9 [==============================] - 0s 9ms/step - loss: 0.4219 - accuracy: 0.8085 - val_loss: 0.4563 - val_accuracy: 0.8197\n",
      "Epoch 53/60\n",
      "9/9 [==============================] - 0s 10ms/step - loss: 0.4208 - accuracy: 0.8156 - val_loss: 0.4560 - val_accuracy: 0.8197\n",
      "Epoch 54/60\n",
      "9/9 [==============================] - 0s 9ms/step - loss: 0.4197 - accuracy: 0.8156 - val_loss: 0.4557 - val_accuracy: 0.8115\n",
      "Epoch 55/60\n",
      "9/9 [==============================] - 0s 9ms/step - loss: 0.4180 - accuracy: 0.8227 - val_loss: 0.4554 - val_accuracy: 0.8115\n",
      "Epoch 56/60\n",
      "9/9 [==============================] - 0s 9ms/step - loss: 0.4166 - accuracy: 0.8227 - val_loss: 0.4552 - val_accuracy: 0.8115\n",
      "Epoch 57/60\n",
      "9/9 [==============================] - 0s 10ms/step - loss: 0.4154 - accuracy: 0.8298 - val_loss: 0.4550 - val_accuracy: 0.8115\n",
      "Epoch 58/60\n",
      "9/9 [==============================] - 0s 9ms/step - loss: 0.4145 - accuracy: 0.8227 - val_loss: 0.4548 - val_accuracy: 0.8115\n",
      "Epoch 59/60\n",
      "9/9 [==============================] - 0s 10ms/step - loss: 0.4131 - accuracy: 0.8227 - val_loss: 0.4547 - val_accuracy: 0.8115\n"
     ]
    },
    {
     "name": "stdout",
     "output_type": "stream",
     "text": [
      "Epoch 60/60\n",
      "9/9 [==============================] - 0s 11ms/step - loss: 0.4122 - accuracy: 0.8227 - val_loss: 0.4545 - val_accuracy: 0.8115\n"
     ]
    }
   ],
   "source": [
    "history = model.fit(inputs_train, labels_train, epochs=60, validation_split=0.3)"
   ]
  },
  {
   "cell_type": "code",
   "execution_count": 127,
   "id": "aec09640",
   "metadata": {},
   "outputs": [
    {
     "data": {
      "image/png": "[encoded data removed]",
      "text/plain": [
       "<Figure size 640x480 with 1 Axes>"
      ]
     },
     "metadata": {},
     "output_type": "display_data"
    },
    {
     "data": {
      "image/png": "[encoded data removed]",
      "text/plain": [
       "<Figure size 640x480 with 1 Axes>"
      ]
     },
     "metadata": {},
     "output_type": "display_data"
    }
   ],
   "source": [
    "loss_curve = history.history[\"loss\"]\n",
    "acc_curve = history.history[\"accuracy\"]\n",
    "\n",
    "loss_val_curve = history.history[\"val_loss\"]\n",
    "acc_val_curve = history.history[\"val_accuracy\"]\n",
    "\n",
    "plt.plot(loss_curve, label=\"Train\")\n",
    "plt.plot(loss_val_curve, label=\"Val\")\n",
    "plt.legend(loc='upper left')\n",
    "plt.title(\"Loss\")\n",
    "plt.grid()\n",
    "plt.show()\n",
    "\n",
    "plt.plot(acc_curve, label=\"Train\")\n",
    "plt.plot(acc_val_curve, label=\"Val\")\n",
    "plt.legend(loc='upper left')\n",
    "plt.title(\"Accuracy\")\n",
    "plt.grid()\n",
    "plt.show()"
   ]
  },
  {
   "cell_type": "code",
   "execution_count": 129,
   "id": "b8dfa9b1",
   "metadata": {},
   "outputs": [
    {
     "name": "stdout",
     "output_type": "stream",
     "text": [
      "4/4 [==============================] - 0s 3ms/step - loss: 0.4343 - accuracy: 0.8218\n",
      "Test loss 0.4343087077140808\n",
      "Train accuracy 0.8217821717262268\n"
     ]
    }
   ],
   "source": [
    "loss, acc = model.evaluate(inputs_test, labels_test)\n",
    "print(\"Test loss\", loss)\n",
    "print(\"Train accuracy\", acc)"
   ]
  },
  {
   "cell_type": "code",
   "execution_count": 130,
   "id": "d276b479",
   "metadata": {},
   "outputs": [],
   "source": [
    "# To go further\n",
    "\n",
    "model.save(\"./Saved_Model/2_hidd_layer_NN.h5\")"
   ]
  },
  {
   "cell_type": "code",
   "execution_count": 40,
   "id": "acf3586c",
   "metadata": {},
   "outputs": [],
   "source": []
  }
 ],
 "metadata": {
  "kernelspec": {
   "display_name": "Python 3 (ipykernel)",
   "language": "python",
   "name": "python3"
  },
  "language_info": {
   "codemirror_mode": {
    "name": "ipython",
    "version": 3
   },
   "file_extension": ".py",
   "mimetype": "text/x-python",
   "name": "python",
   "nbconvert_exporter": "python",
   "pygments_lexer": "ipython3",
   "version": "3.10.7"
  }
 },
 "nbformat": 4,
 "nbformat_minor": 5
}
