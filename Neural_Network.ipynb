{
 "cells": [
  {
   "cell_type": "code",
   "execution_count": 1,
   "id": "96fbcacf",
   "metadata": {},
   "outputs": [],
   "source": [
    "# Matplotlib\n",
    "import matplotlib.pyplot as plt\n",
    "# Tensorflow\n",
    "import tensorflow as tf\n",
    "# Numpy and Pandas\n",
    "import numpy as np\n",
    "import pandas as pd\n",
    "# Other import\n",
    "import sys\n",
    "\n",
    "\n",
    "from sklearn.preprocessing import StandardScaler"
   ]
  },
  {
   "cell_type": "code",
   "execution_count": 2,
   "id": "a13b80fa",
   "metadata": {},
   "outputs": [
    {
     "data": {
      "text/html": [
       "<div>\n",
       "<style scoped>\n",
       "    .dataframe tbody tr th:only-of-type {\n",
       "        vertical-align: middle;\n",
       "    }\n",
       "\n",
       "    .dataframe tbody tr th {\n",
       "        vertical-align: top;\n",
       "    }\n",
       "\n",
       "    .dataframe thead th {\n",
       "        text-align: right;\n",
       "    }\n",
       "</style>\n",
       "<table border=\"1\" class=\"dataframe\">\n",
       "  <thead>\n",
       "    <tr style=\"text-align: right;\">\n",
       "      <th></th>\n",
       "      <th>danceability</th>\n",
       "      <th>energy</th>\n",
       "      <th>key</th>\n",
       "      <th>loudness</th>\n",
       "      <th>mode</th>\n",
       "      <th>speechiness</th>\n",
       "      <th>acousticness</th>\n",
       "      <th>instrumentalness</th>\n",
       "      <th>liveness</th>\n",
       "      <th>valence</th>\n",
       "      <th>tempo</th>\n",
       "    </tr>\n",
       "  </thead>\n",
       "  <tbody>\n",
       "    <tr>\n",
       "      <th>0</th>\n",
       "      <td>0.545</td>\n",
       "      <td>0.884</td>\n",
       "      <td>5</td>\n",
       "      <td>-4.807</td>\n",
       "      <td>0</td>\n",
       "      <td>0.367</td>\n",
       "      <td>0.290000</td>\n",
       "      <td>0.000000</td>\n",
       "      <td>0.370</td>\n",
       "      <td>0.641</td>\n",
       "      <td>86.049</td>\n",
       "    </tr>\n",
       "    <tr>\n",
       "      <th>1</th>\n",
       "      <td>0.795</td>\n",
       "      <td>0.545</td>\n",
       "      <td>7</td>\n",
       "      <td>-8.153</td>\n",
       "      <td>1</td>\n",
       "      <td>0.343</td>\n",
       "      <td>0.003960</td>\n",
       "      <td>0.000000</td>\n",
       "      <td>0.273</td>\n",
       "      <td>0.809</td>\n",
       "      <td>91.967</td>\n",
       "    </tr>\n",
       "    <tr>\n",
       "      <th>2</th>\n",
       "      <td>0.489</td>\n",
       "      <td>0.871</td>\n",
       "      <td>5</td>\n",
       "      <td>-5.825</td>\n",
       "      <td>1</td>\n",
       "      <td>0.386</td>\n",
       "      <td>0.002850</td>\n",
       "      <td>0.000004</td>\n",
       "      <td>0.130</td>\n",
       "      <td>0.341</td>\n",
       "      <td>117.431</td>\n",
       "    </tr>\n",
       "    <tr>\n",
       "      <th>3</th>\n",
       "      <td>0.539</td>\n",
       "      <td>0.931</td>\n",
       "      <td>4</td>\n",
       "      <td>-1.803</td>\n",
       "      <td>0</td>\n",
       "      <td>0.262</td>\n",
       "      <td>0.000713</td>\n",
       "      <td>0.000000</td>\n",
       "      <td>0.204</td>\n",
       "      <td>0.685</td>\n",
       "      <td>85.571</td>\n",
       "    </tr>\n",
       "    <tr>\n",
       "      <th>4</th>\n",
       "      <td>0.918</td>\n",
       "      <td>0.734</td>\n",
       "      <td>11</td>\n",
       "      <td>-2.832</td>\n",
       "      <td>0</td>\n",
       "      <td>0.269</td>\n",
       "      <td>0.029400</td>\n",
       "      <td>0.000008</td>\n",
       "      <td>0.191</td>\n",
       "      <td>0.608</td>\n",
       "      <td>97.044</td>\n",
       "    </tr>\n",
       "  </tbody>\n",
       "</table>\n",
       "</div>"
      ],
      "text/plain": [
       "   danceability  energy  key  loudness  mode  speechiness  acousticness  \\\n",
       "0         0.545   0.884    5    -4.807     0        0.367      0.290000   \n",
       "1         0.795   0.545    7    -8.153     1        0.343      0.003960   \n",
       "2         0.489   0.871    5    -5.825     1        0.386      0.002850   \n",
       "3         0.539   0.931    4    -1.803     0        0.262      0.000713   \n",
       "4         0.918   0.734   11    -2.832     0        0.269      0.029400   \n",
       "\n",
       "   instrumentalness  liveness  valence    tempo  \n",
       "0          0.000000     0.370    0.641   86.049  \n",
       "1          0.000000     0.273    0.809   91.967  \n",
       "2          0.000004     0.130    0.341  117.431  \n",
       "3          0.000000     0.204    0.685   85.571  \n",
       "4          0.000008     0.191    0.608   97.044  "
      ]
     },
     "execution_count": 2,
     "metadata": {},
     "output_type": "execute_result"
    }
   ],
   "source": [
    "# Extract data\n",
    "data = pd.read_csv(\"./data/project_train.csv\")\n",
    "inputs = data.iloc[:,:11]\n",
    "labels = data.iloc[:,11]\n",
    "inputs.head()"
   ]
  },
  {
   "cell_type": "code",
   "execution_count": 3,
   "id": "23533494",
   "metadata": {},
   "outputs": [],
   "source": [
    "from sklearn.model_selection import train_test_split\n",
    "\n",
    "# Scale data\n",
    "scaler = StandardScaler()\n",
    "inputs = scaler.fit_transform(inputs)\n",
    "\n",
    "# Split training and test data\n",
    "inputs_train, inputs_test, labels_train, labels_test = train_test_split(inputs, labels, test_size=0.2, random_state=1)"
   ]
  },
  {
   "cell_type": "code",
   "execution_count": 4,
   "id": "2a157b26",
   "metadata": {},
   "outputs": [],
   "source": [
    "# Create the model\n",
    "model = tf.keras.models.Sequential()\n",
    "\n",
    "# Add the layers\n",
    "model.add(tf.keras.layers.Dense(80, activation=\"relu\"))\n",
    "model.add(tf.keras.layers.Dense(80, activation=\"relu\"))\n",
    "model.add(tf.keras.layers.Dense(2, activation=\"softmax\"))"
   ]
  },
  {
   "cell_type": "code",
   "execution_count": 5,
   "id": "56e3a1c8",
   "metadata": {},
   "outputs": [],
   "source": [
    "# Compile the model\n",
    "model.compile(\n",
    "    loss=\"sparse_categorical_crossentropy\",\n",
    "    optimizer=\"sgd\",\n",
    "    metrics=[\"accuracy\"]\n",
    ")"
   ]
  },
  {
   "cell_type": "code",
   "execution_count": 6,
   "id": "28c720cf",
   "metadata": {},
   "outputs": [
    {
     "name": "stdout",
     "output_type": "stream",
     "text": [
      "Epoch 1/60\n"
     ]
    },
    {
     "name": "stderr",
     "output_type": "stream",
     "text": [
      "C:\\Users\\User\\AppData\\Local\\Programs\\Python\\Python310\\lib\\site-packages\\keras\\engine\\data_adapter.py:1699: FutureWarning: The behavior of `series[i:j]` with an integer-dtype index is deprecated. In a future version, this will be treated as *label-based* indexing, consistent with e.g. `series[i]` lookups. To retain the old behavior, use `series.iloc[i:j]`. To get the future behavior, use `series.loc[i:j]`.\n",
      "  return t[start:end]\n"
     ]
    },
    {
     "name": "stdout",
     "output_type": "stream",
     "text": [
      "9/9 [==============================] - 0s 18ms/step - loss: 0.7929 - accuracy: 0.4149 - val_loss: 0.7382 - val_accuracy: 0.3934\n",
      "Epoch 2/60\n",
      "9/9 [==============================] - 0s 6ms/step - loss: 0.7329 - accuracy: 0.4468 - val_loss: 0.6976 - val_accuracy: 0.4508\n",
      "Epoch 3/60\n",
      "9/9 [==============================] - 0s 4ms/step - loss: 0.6900 - accuracy: 0.5390 - val_loss: 0.6667 - val_accuracy: 0.5902\n",
      "Epoch 4/60\n",
      "9/9 [==============================] - 0s 4ms/step - loss: 0.6581 - accuracy: 0.6383 - val_loss: 0.6422 - val_accuracy: 0.6721\n",
      "Epoch 5/60\n",
      "9/9 [==============================] - 0s 5ms/step - loss: 0.6325 - accuracy: 0.7199 - val_loss: 0.6225 - val_accuracy: 0.7049\n",
      "Epoch 6/60\n",
      "9/9 [==============================] - 0s 4ms/step - loss: 0.6121 - accuracy: 0.7482 - val_loss: 0.6061 - val_accuracy: 0.7295\n",
      "Epoch 7/60\n",
      "9/9 [==============================] - 0s 4ms/step - loss: 0.5949 - accuracy: 0.7518 - val_loss: 0.5920 - val_accuracy: 0.7623\n",
      "Epoch 8/60\n",
      "9/9 [==============================] - 0s 5ms/step - loss: 0.5795 - accuracy: 0.7589 - val_loss: 0.5797 - val_accuracy: 0.7787\n",
      "Epoch 9/60\n",
      "9/9 [==============================] - 0s 4ms/step - loss: 0.5664 - accuracy: 0.7730 - val_loss: 0.5687 - val_accuracy: 0.7869\n",
      "Epoch 10/60\n",
      "9/9 [==============================] - 0s 4ms/step - loss: 0.5549 - accuracy: 0.7801 - val_loss: 0.5588 - val_accuracy: 0.7869\n",
      "Epoch 11/60\n",
      "9/9 [==============================] - 0s 4ms/step - loss: 0.5441 - accuracy: 0.7908 - val_loss: 0.5497 - val_accuracy: 0.7951\n",
      "Epoch 12/60\n",
      "9/9 [==============================] - 0s 5ms/step - loss: 0.5343 - accuracy: 0.8014 - val_loss: 0.5417 - val_accuracy: 0.7951\n",
      "Epoch 13/60\n",
      "9/9 [==============================] - 0s 4ms/step - loss: 0.5258 - accuracy: 0.7943 - val_loss: 0.5343 - val_accuracy: 0.8033\n",
      "Epoch 14/60\n",
      "9/9 [==============================] - 0s 4ms/step - loss: 0.5178 - accuracy: 0.7979 - val_loss: 0.5276 - val_accuracy: 0.8033\n",
      "Epoch 15/60\n",
      "9/9 [==============================] - 0s 4ms/step - loss: 0.5103 - accuracy: 0.8014 - val_loss: 0.5214 - val_accuracy: 0.8115\n",
      "Epoch 16/60\n",
      "9/9 [==============================] - 0s 4ms/step - loss: 0.5038 - accuracy: 0.7979 - val_loss: 0.5156 - val_accuracy: 0.8197\n",
      "Epoch 17/60\n",
      "9/9 [==============================] - 0s 4ms/step - loss: 0.4972 - accuracy: 0.8014 - val_loss: 0.5102 - val_accuracy: 0.8197\n",
      "Epoch 18/60\n",
      "9/9 [==============================] - 0s 4ms/step - loss: 0.4912 - accuracy: 0.8050 - val_loss: 0.5053 - val_accuracy: 0.8115\n",
      "Epoch 19/60\n",
      "9/9 [==============================] - 0s 4ms/step - loss: 0.4857 - accuracy: 0.8014 - val_loss: 0.5007 - val_accuracy: 0.8115\n",
      "Epoch 20/60\n",
      "9/9 [==============================] - 0s 4ms/step - loss: 0.4805 - accuracy: 0.8085 - val_loss: 0.4966 - val_accuracy: 0.8115\n",
      "Epoch 21/60\n",
      "9/9 [==============================] - 0s 4ms/step - loss: 0.4758 - accuracy: 0.8050 - val_loss: 0.4927 - val_accuracy: 0.8115\n",
      "Epoch 22/60\n",
      "9/9 [==============================] - 0s 4ms/step - loss: 0.4711 - accuracy: 0.8085 - val_loss: 0.4892 - val_accuracy: 0.8115\n",
      "Epoch 23/60\n",
      "9/9 [==============================] - 0s 5ms/step - loss: 0.4666 - accuracy: 0.8191 - val_loss: 0.4860 - val_accuracy: 0.8115\n",
      "Epoch 24/60\n",
      "9/9 [==============================] - 0s 4ms/step - loss: 0.4626 - accuracy: 0.8121 - val_loss: 0.4830 - val_accuracy: 0.8197\n",
      "Epoch 25/60\n",
      "9/9 [==============================] - 0s 4ms/step - loss: 0.4586 - accuracy: 0.8156 - val_loss: 0.4801 - val_accuracy: 0.8197\n",
      "Epoch 26/60\n",
      "9/9 [==============================] - 0s 4ms/step - loss: 0.4548 - accuracy: 0.8191 - val_loss: 0.4775 - val_accuracy: 0.8279\n",
      "Epoch 27/60\n",
      "9/9 [==============================] - 0s 4ms/step - loss: 0.4513 - accuracy: 0.8227 - val_loss: 0.4751 - val_accuracy: 0.8279\n",
      "Epoch 28/60\n",
      "9/9 [==============================] - 0s 4ms/step - loss: 0.4481 - accuracy: 0.8191 - val_loss: 0.4730 - val_accuracy: 0.8279\n",
      "Epoch 29/60\n",
      "9/9 [==============================] - 0s 4ms/step - loss: 0.4451 - accuracy: 0.8227 - val_loss: 0.4711 - val_accuracy: 0.8279\n",
      "Epoch 30/60\n",
      "9/9 [==============================] - 0s 4ms/step - loss: 0.4418 - accuracy: 0.8227 - val_loss: 0.4694 - val_accuracy: 0.8279\n",
      "Epoch 31/60\n",
      "9/9 [==============================] - 0s 4ms/step - loss: 0.4390 - accuracy: 0.8227 - val_loss: 0.4677 - val_accuracy: 0.8279\n",
      "Epoch 32/60\n",
      "9/9 [==============================] - 0s 4ms/step - loss: 0.4362 - accuracy: 0.8262 - val_loss: 0.4662 - val_accuracy: 0.8279\n",
      "Epoch 33/60\n",
      "9/9 [==============================] - 0s 4ms/step - loss: 0.4336 - accuracy: 0.8227 - val_loss: 0.4649 - val_accuracy: 0.8279\n",
      "Epoch 34/60\n",
      "9/9 [==============================] - 0s 4ms/step - loss: 0.4307 - accuracy: 0.8262 - val_loss: 0.4637 - val_accuracy: 0.8279\n",
      "Epoch 35/60\n",
      "9/9 [==============================] - 0s 4ms/step - loss: 0.4286 - accuracy: 0.8262 - val_loss: 0.4625 - val_accuracy: 0.8279\n",
      "Epoch 36/60\n",
      "9/9 [==============================] - 0s 4ms/step - loss: 0.4261 - accuracy: 0.8298 - val_loss: 0.4615 - val_accuracy: 0.8279\n",
      "Epoch 37/60\n",
      "9/9 [==============================] - 0s 4ms/step - loss: 0.4237 - accuracy: 0.8262 - val_loss: 0.4609 - val_accuracy: 0.8279\n",
      "Epoch 38/60\n",
      "9/9 [==============================] - 0s 4ms/step - loss: 0.4216 - accuracy: 0.8262 - val_loss: 0.4602 - val_accuracy: 0.8361\n",
      "Epoch 39/60\n",
      "9/9 [==============================] - 0s 4ms/step - loss: 0.4195 - accuracy: 0.8298 - val_loss: 0.4594 - val_accuracy: 0.8361\n",
      "Epoch 40/60\n",
      "9/9 [==============================] - 0s 5ms/step - loss: 0.4175 - accuracy: 0.8298 - val_loss: 0.4588 - val_accuracy: 0.8279\n",
      "Epoch 41/60\n",
      "9/9 [==============================] - 0s 5ms/step - loss: 0.4156 - accuracy: 0.8298 - val_loss: 0.4583 - val_accuracy: 0.8279\n",
      "Epoch 42/60\n",
      "9/9 [==============================] - 0s 4ms/step - loss: 0.4138 - accuracy: 0.8333 - val_loss: 0.4578 - val_accuracy: 0.8279\n",
      "Epoch 43/60\n",
      "9/9 [==============================] - 0s 4ms/step - loss: 0.4118 - accuracy: 0.8369 - val_loss: 0.4572 - val_accuracy: 0.8279\n",
      "Epoch 44/60\n",
      "9/9 [==============================] - 0s 5ms/step - loss: 0.4105 - accuracy: 0.8333 - val_loss: 0.4568 - val_accuracy: 0.8279\n",
      "Epoch 45/60\n",
      "9/9 [==============================] - 0s 4ms/step - loss: 0.4086 - accuracy: 0.8298 - val_loss: 0.4565 - val_accuracy: 0.8279\n",
      "Epoch 46/60\n",
      "9/9 [==============================] - 0s 5ms/step - loss: 0.4073 - accuracy: 0.8369 - val_loss: 0.4563 - val_accuracy: 0.8279\n",
      "Epoch 47/60\n",
      "9/9 [==============================] - 0s 6ms/step - loss: 0.4057 - accuracy: 0.8369 - val_loss: 0.4560 - val_accuracy: 0.8279\n",
      "Epoch 48/60\n",
      "9/9 [==============================] - 0s 5ms/step - loss: 0.4039 - accuracy: 0.8333 - val_loss: 0.4559 - val_accuracy: 0.8279\n",
      "Epoch 49/60\n",
      "9/9 [==============================] - 0s 7ms/step - loss: 0.4028 - accuracy: 0.8369 - val_loss: 0.4558 - val_accuracy: 0.8279\n",
      "Epoch 50/60\n",
      "9/9 [==============================] - 0s 8ms/step - loss: 0.4013 - accuracy: 0.8333 - val_loss: 0.4556 - val_accuracy: 0.8279\n",
      "Epoch 51/60\n",
      "9/9 [==============================] - 0s 8ms/step - loss: 0.3999 - accuracy: 0.8298 - val_loss: 0.4557 - val_accuracy: 0.8279\n",
      "Epoch 52/60\n",
      "9/9 [==============================] - 0s 7ms/step - loss: 0.3985 - accuracy: 0.8369 - val_loss: 0.4557 - val_accuracy: 0.8279\n",
      "Epoch 53/60\n",
      "9/9 [==============================] - 0s 6ms/step - loss: 0.3971 - accuracy: 0.8298 - val_loss: 0.4558 - val_accuracy: 0.8279\n",
      "Epoch 54/60\n",
      "9/9 [==============================] - 0s 7ms/step - loss: 0.3958 - accuracy: 0.8298 - val_loss: 0.4559 - val_accuracy: 0.8279\n",
      "Epoch 55/60\n",
      "9/9 [==============================] - 0s 6ms/step - loss: 0.3947 - accuracy: 0.8298 - val_loss: 0.4560 - val_accuracy: 0.8279\n",
      "Epoch 56/60\n",
      "9/9 [==============================] - 0s 5ms/step - loss: 0.3935 - accuracy: 0.8298 - val_loss: 0.4559 - val_accuracy: 0.8279\n",
      "Epoch 57/60\n",
      "9/9 [==============================] - 0s 6ms/step - loss: 0.3922 - accuracy: 0.8298 - val_loss: 0.4561 - val_accuracy: 0.8279\n",
      "Epoch 58/60\n",
      "9/9 [==============================] - 0s 7ms/step - loss: 0.3911 - accuracy: 0.8262 - val_loss: 0.4561 - val_accuracy: 0.8279\n",
      "Epoch 59/60\n",
      "9/9 [==============================] - 0s 5ms/step - loss: 0.3897 - accuracy: 0.8262 - val_loss: 0.4563 - val_accuracy: 0.8279\n",
      "Epoch 60/60\n"
     ]
    },
    {
     "name": "stdout",
     "output_type": "stream",
     "text": [
      "9/9 [==============================] - 0s 6ms/step - loss: 0.3886 - accuracy: 0.8333 - val_loss: 0.4564 - val_accuracy: 0.8279\n"
     ]
    }
   ],
   "source": [
    "history = model.fit(inputs_train, labels_train, epochs=60, validation_split=0.3)"
   ]
  },
  {
   "cell_type": "code",
   "execution_count": 7,
   "id": "aec09640",
   "metadata": {},
   "outputs": [
    {
     "data": {
      "image/png": "[encoded data removed]",
      "text/plain": [
       "<Figure size 640x480 with 1 Axes>"
      ]
     },
     "metadata": {},
     "output_type": "display_data"
    },
    {
     "data": {
      "image/png": "[encoded data removed]",
      "text/plain": [
       "<Figure size 640x480 with 1 Axes>"
      ]
     },
     "metadata": {},
     "output_type": "display_data"
    }
   ],
   "source": [
    "loss_curve = history.history[\"loss\"]\n",
    "acc_curve = history.history[\"accuracy\"]\n",
    "\n",
    "loss_val_curve = history.history[\"val_loss\"]\n",
    "acc_val_curve = history.history[\"val_accuracy\"]\n",
    "\n",
    "plt.plot(loss_curve, label=\"Train\")\n",
    "plt.plot(loss_val_curve, label=\"Val\")\n",
    "plt.legend(loc='upper left')\n",
    "plt.title(\"Loss\")\n",
    "plt.show()\n",
    "\n",
    "plt.plot(acc_curve, label=\"Train\")\n",
    "plt.plot(acc_val_curve, label=\"Val\")\n",
    "plt.legend(loc='upper left')\n",
    "plt.title(\"Accuracy\")\n",
    "plt.show()"
   ]
  },
  {
   "cell_type": "code",
   "execution_count": 8,
   "id": "b8dfa9b1",
   "metadata": {},
   "outputs": [
    {
     "name": "stdout",
     "output_type": "stream",
     "text": [
      "4/4 [==============================] - 0s 2ms/step - loss: 0.4182 - accuracy: 0.8020\n",
      "Test loss 0.4181874096393585\n",
      "Train accuracy 0.801980197429657\n"
     ]
    }
   ],
   "source": [
    "loss, acc = model.evaluate(inputs_test, labels_test)\n",
    "print(\"Test loss\", loss)\n",
    "print(\"Train accuracy\", acc)"
   ]
  }
 ],
 "metadata": {
  "kernelspec": {
   "display_name": "Python 3 (ipykernel)",
   "language": "python",
   "name": "python3"
  },
  "language_info": {
   "codemirror_mode": {
    "name": "ipython",
    "version": 3
   },
   "file_extension": ".py",
   "mimetype": "text/x-python",
   "name": "python",
   "nbconvert_exporter": "python",
   "pygments_lexer": "ipython3",
   "version": "3.10.7"
  }
 },
 "nbformat": 4,
 "nbformat_minor": 5
}
