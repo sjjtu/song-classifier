{
 "cells": [
  {
   "cell_type": "code",
   "execution_count": 1,
   "metadata": {},
   "outputs": [],
   "source": [
    "import pandas as pd\n",
    "import numpy as np\n",
    "from sklearn.linear_model import Ridge, LogisticRegression\n",
    "from sklearn.preprocessing import PolynomialFeatures, StandardScaler\n",
    "from sklearn.model_selection import train_test_split"
   ]
  },
  {
   "cell_type": "code",
   "execution_count": 2,
   "metadata": {},
   "outputs": [],
   "source": [
    "scaler = StandardScaler()\n",
    "poly = PolynomialFeatures()\n",
    "# Extract data\n",
    "data = pd.read_csv(\"./data/project_train.csv\")\n",
    "inputs = data.iloc[:,:11]\n",
    "Y = data.iloc[:,11]\n",
    "X = scaler.fit_transform(poly.fit_transform(inputs))"
   ]
  },
  {
   "cell_type": "code",
   "execution_count": 3,
   "metadata": {},
   "outputs": [
    {
     "name": "stdout",
     "output_type": "stream",
     "text": [
      "train acc: 0.8589108910891089\n",
      "test acc: 0.7722772277227723\n"
     ]
    }
   ],
   "source": [
    "X_train, X_test, y_train, y_test = train_test_split(X, Y, test_size=0.2, random_state=2)\n",
    "log_clf = LogisticRegression(penalty='l1', solver='liblinear')\n",
    "log_clf.fit(X_train, y_train)\n",
    "print(\"train acc: \" + str(log_clf.score(X_train, y_train)))\n",
    "print(\"test acc: \" + str(log_clf.score(X_test, y_test)))"
   ]
  },
  {
   "cell_type": "code",
   "execution_count": 4,
   "metadata": {},
   "outputs": [],
   "source": [
    "log_clf.coef_\n",
    "coefs = pd.DataFrame({\"predictor\":[feat for feat in poly.get_feature_names_out()], \"coef\": log_clf.coef_[0]})\n",
    "coefs[coefs.coef!=0].reindex(coefs[coefs.coef!=0].coef.abs().sort_values().index).to_csv(\"log_reg_ceof_table\", sep=\"&\", index=False, lineterminator=\" \\\\\\ \\n\")\n"
   ]
  },
  {
   "cell_type": "code",
   "execution_count": 5,
   "metadata": {},
   "outputs": [],
   "source": [
    "X_eval = pd.read_csv(\"./data/project_test.csv\")\n",
    "\n",
    "log_clf_predict = log_clf.predict(scaler.fit_transform(poly.fit_transform(X_eval)))\n",
    "# np.savetxt(\"./Predictions/log_reg.csv\", log_clf_predict, delimiter=\",\", fmt=\"%d\", newline=\",\")"
   ]
  },
  {
   "cell_type": "code",
   "execution_count": 6,
   "metadata": {},
   "outputs": [
    {
     "data": {
      "text/plain": [
       "array([0, 1, 1, 1, 1, 1, 0, 1, 1, 1, 0, 0, 0, 1, 0, 1, 1, 0, 0, 0, 0, 1,\n",
       "       0, 1, 0, 1, 0, 1, 0, 0, 1, 0, 0, 1, 1, 0, 1, 1, 0, 1, 1, 0, 0, 0,\n",
       "       0, 0, 0, 0, 1, 1, 1, 0, 1, 0, 0, 0, 0, 0, 1, 1, 1, 0, 0, 0, 1, 0,\n",
       "       0, 1, 0, 0, 1, 1, 1, 1, 0])"
      ]
     },
     "execution_count": 6,
     "metadata": {},
     "output_type": "execute_result"
    }
   ],
   "source": [
    "log_clf_predict"
   ]
  },
  {
   "cell_type": "code",
   "execution_count": null,
   "metadata": {},
   "outputs": [],
   "source": []
  }
 ],
 "metadata": {
  "kernelspec": {
   "display_name": "Python 3.10.6 ('song-classifier-HujJIJ7v')",
   "language": "python",
   "name": "python3"
  },
  "language_info": {
   "codemirror_mode": {
    "name": "ipython",
    "version": 3
   },
   "file_extension": ".py",
   "mimetype": "text/x-python",
   "name": "python",
   "nbconvert_exporter": "python",
   "pygments_lexer": "ipython3",
   "version": "3.10.6"
  },
  "orig_nbformat": 4,
  "vscode": {
   "interpreter": {
    "hash": "935dd8b9d1dddc6b333f08f7b902b9a191d0e16a7ed47435dd4c7af0fa6de048"
   }
  }
 },
 "nbformat": 4,
 "nbformat_minor": 2
}
