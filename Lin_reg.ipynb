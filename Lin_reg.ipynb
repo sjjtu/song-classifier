{
 "cells": [
  {
   "cell_type": "code",
   "execution_count": 10,
   "metadata": {},
   "outputs": [],
   "source": [
    "from abstractClassifier import AbstractClassifier   \n",
    "\n",
    "from numpy.linalg import inv\n",
    "import pandas as pd\n",
    "import numpy as np"
   ]
  },
  {
   "cell_type": "code",
   "execution_count": 18,
   "metadata": {},
   "outputs": [
    {
     "data": {
      "text/plain": [
       "0    1\n",
       "1    1\n",
       "2    1\n",
       "3    0\n",
       "4    1\n",
       "Name: Label, dtype: int64"
      ]
     },
     "execution_count": 18,
     "metadata": {},
     "output_type": "execute_result"
    }
   ],
   "source": [
    "# Extract data\n",
    "data = pd.read_csv(\"./data/project_train.csv\")\n",
    "inputs = data.iloc[:,:11]\n",
    "labels = data.iloc[:,11]\n",
    "labels.head()"
   ]
  },
  {
   "cell_type": "code",
   "execution_count": 25,
   "metadata": {},
   "outputs": [],
   "source": [
    "class LinearBinaryClassifier(AbstractClassifier):\n",
    "\n",
    "    def __init__(self):\n",
    "        self._w = 0\n",
    "\n",
    "    def predict(self, X):\n",
    "        # Numpy's `where` function provides a fast substitution\n",
    "        return np.where(X @ self._w >= 0.0, 1, 0)\n",
    "\n",
    "    def h(self, x):\n",
    "        # Numpy's `where` function provides a fast substitution\n",
    "        return np.where(np.c_[x, np.ones(x.shape[0])] @ self._w >= 0.0, 1, 0)\n",
    "\n",
    "    def train(self, X_train, y_train):\n",
    "        _X = np.c_[X_train, np.ones(X_train.shape[0])]\n",
    "        w = np.matmul(inv(np.matmul(_X.T, _X)), _X.T).dot(y_train)\n",
    "        self._w = w\n",
    "        return w\n",
    "    \n",
    "    def accuracy(self, X, Y):\n",
    "        return 1. - np.sum(self.h(X) != Y)/Y.size"
   ]
  },
  {
   "cell_type": "code",
   "execution_count": 26,
   "metadata": {},
   "outputs": [
    {
     "data": {
      "text/plain": [
       "0.5287128712871287"
      ]
     },
     "execution_count": 26,
     "metadata": {},
     "output_type": "execute_result"
    }
   ],
   "source": [
    "ols = LinearBinaryClassifier()\n",
    "ols.train(inputs, labels)\n",
    "ols.accuracy(inputs, labels)"
   ]
  }
 ],
 "metadata": {
  "kernelspec": {
   "display_name": "Python 3.10.6 ('song-classifier-HujJIJ7v')",
   "language": "python",
   "name": "python3"
  },
  "language_info": {
   "codemirror_mode": {
    "name": "ipython",
    "version": 3
   },
   "file_extension": ".py",
   "mimetype": "text/x-python",
   "name": "python",
   "nbconvert_exporter": "python",
   "pygments_lexer": "ipython3",
   "version": "3.10.6"
  },
  "orig_nbformat": 4,
  "vscode": {
   "interpreter": {
    "hash": "935dd8b9d1dddc6b333f08f7b902b9a191d0e16a7ed47435dd4c7af0fa6de048"
   }
  }
 },
 "nbformat": 4,
 "nbformat_minor": 2
}
